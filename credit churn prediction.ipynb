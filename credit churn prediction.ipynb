{
 "cells": [
  {
   "cell_type": "code",
   "execution_count": 1,
   "id": "d4cabded",
   "metadata": {},
   "outputs": [],
   "source": [
    "import numpy as np\n",
    "import pandas as pd"
   ]
  },
  {
   "cell_type": "code",
   "execution_count": 149,
   "id": "f061a7ab",
   "metadata": {},
   "outputs": [],
   "source": [
    "df = pd.read_csv('Churn_Modelling.csv')"
   ]
  },
  {
   "cell_type": "code",
   "execution_count": 5,
   "id": "0cfd2951",
   "metadata": {},
   "outputs": [
    {
     "data": {
      "text/html": [
       "<div>\n",
       "<style scoped>\n",
       "    .dataframe tbody tr th:only-of-type {\n",
       "        vertical-align: middle;\n",
       "    }\n",
       "\n",
       "    .dataframe tbody tr th {\n",
       "        vertical-align: top;\n",
       "    }\n",
       "\n",
       "    .dataframe thead th {\n",
       "        text-align: right;\n",
       "    }\n",
       "</style>\n",
       "<table border=\"1\" class=\"dataframe\">\n",
       "  <thead>\n",
       "    <tr style=\"text-align: right;\">\n",
       "      <th></th>\n",
       "      <th>RowNumber</th>\n",
       "      <th>CustomerId</th>\n",
       "      <th>Surname</th>\n",
       "      <th>CreditScore</th>\n",
       "      <th>Geography</th>\n",
       "      <th>Gender</th>\n",
       "      <th>Age</th>\n",
       "      <th>Tenure</th>\n",
       "      <th>Balance</th>\n",
       "      <th>NumOfProducts</th>\n",
       "      <th>HasCrCard</th>\n",
       "      <th>IsActiveMember</th>\n",
       "      <th>EstimatedSalary</th>\n",
       "      <th>Exited</th>\n",
       "    </tr>\n",
       "  </thead>\n",
       "  <tbody>\n",
       "    <tr>\n",
       "      <th>0</th>\n",
       "      <td>1</td>\n",
       "      <td>15634602</td>\n",
       "      <td>Hargrave</td>\n",
       "      <td>619</td>\n",
       "      <td>France</td>\n",
       "      <td>Female</td>\n",
       "      <td>42</td>\n",
       "      <td>2</td>\n",
       "      <td>0.00</td>\n",
       "      <td>1</td>\n",
       "      <td>1</td>\n",
       "      <td>1</td>\n",
       "      <td>101348.88</td>\n",
       "      <td>1</td>\n",
       "    </tr>\n",
       "    <tr>\n",
       "      <th>1</th>\n",
       "      <td>2</td>\n",
       "      <td>15647311</td>\n",
       "      <td>Hill</td>\n",
       "      <td>608</td>\n",
       "      <td>Spain</td>\n",
       "      <td>Female</td>\n",
       "      <td>41</td>\n",
       "      <td>1</td>\n",
       "      <td>83807.86</td>\n",
       "      <td>1</td>\n",
       "      <td>0</td>\n",
       "      <td>1</td>\n",
       "      <td>112542.58</td>\n",
       "      <td>0</td>\n",
       "    </tr>\n",
       "    <tr>\n",
       "      <th>2</th>\n",
       "      <td>3</td>\n",
       "      <td>15619304</td>\n",
       "      <td>Onio</td>\n",
       "      <td>502</td>\n",
       "      <td>France</td>\n",
       "      <td>Female</td>\n",
       "      <td>42</td>\n",
       "      <td>8</td>\n",
       "      <td>159660.80</td>\n",
       "      <td>3</td>\n",
       "      <td>1</td>\n",
       "      <td>0</td>\n",
       "      <td>113931.57</td>\n",
       "      <td>1</td>\n",
       "    </tr>\n",
       "    <tr>\n",
       "      <th>3</th>\n",
       "      <td>4</td>\n",
       "      <td>15701354</td>\n",
       "      <td>Boni</td>\n",
       "      <td>699</td>\n",
       "      <td>France</td>\n",
       "      <td>Female</td>\n",
       "      <td>39</td>\n",
       "      <td>1</td>\n",
       "      <td>0.00</td>\n",
       "      <td>2</td>\n",
       "      <td>0</td>\n",
       "      <td>0</td>\n",
       "      <td>93826.63</td>\n",
       "      <td>0</td>\n",
       "    </tr>\n",
       "    <tr>\n",
       "      <th>4</th>\n",
       "      <td>5</td>\n",
       "      <td>15737888</td>\n",
       "      <td>Mitchell</td>\n",
       "      <td>850</td>\n",
       "      <td>Spain</td>\n",
       "      <td>Female</td>\n",
       "      <td>43</td>\n",
       "      <td>2</td>\n",
       "      <td>125510.82</td>\n",
       "      <td>1</td>\n",
       "      <td>1</td>\n",
       "      <td>1</td>\n",
       "      <td>79084.10</td>\n",
       "      <td>0</td>\n",
       "    </tr>\n",
       "  </tbody>\n",
       "</table>\n",
       "</div>"
      ],
      "text/plain": [
       "   RowNumber  CustomerId   Surname  CreditScore Geography  Gender  Age  \\\n",
       "0          1    15634602  Hargrave          619    France  Female   42   \n",
       "1          2    15647311      Hill          608     Spain  Female   41   \n",
       "2          3    15619304      Onio          502    France  Female   42   \n",
       "3          4    15701354      Boni          699    France  Female   39   \n",
       "4          5    15737888  Mitchell          850     Spain  Female   43   \n",
       "\n",
       "   Tenure    Balance  NumOfProducts  HasCrCard  IsActiveMember  \\\n",
       "0       2       0.00              1          1               1   \n",
       "1       1   83807.86              1          0               1   \n",
       "2       8  159660.80              3          1               0   \n",
       "3       1       0.00              2          0               0   \n",
       "4       2  125510.82              1          1               1   \n",
       "\n",
       "   EstimatedSalary  Exited  \n",
       "0        101348.88       1  \n",
       "1        112542.58       0  \n",
       "2        113931.57       1  \n",
       "3         93826.63       0  \n",
       "4         79084.10       0  "
      ]
     },
     "execution_count": 5,
     "metadata": {},
     "output_type": "execute_result"
    }
   ],
   "source": [
    "df.head()"
   ]
  },
  {
   "cell_type": "code",
   "execution_count": 6,
   "id": "de2ce3bf",
   "metadata": {},
   "outputs": [
    {
     "data": {
      "text/plain": [
       "Index(['RowNumber', 'CustomerId', 'Surname', 'CreditScore', 'Geography',\n",
       "       'Gender', 'Age', 'Tenure', 'Balance', 'NumOfProducts', 'HasCrCard',\n",
       "       'IsActiveMember', 'EstimatedSalary', 'Exited'],\n",
       "      dtype='object')"
      ]
     },
     "execution_count": 6,
     "metadata": {},
     "output_type": "execute_result"
    }
   ],
   "source": [
    "df.columns"
   ]
  },
  {
   "cell_type": "code",
   "execution_count": 150,
   "id": "bed7928c",
   "metadata": {},
   "outputs": [],
   "source": [
    "df.drop(columns = ['RowNumber', 'CustomerId', 'Surname'],inplace = True)"
   ]
  },
  {
   "cell_type": "code",
   "execution_count": 93,
   "id": "a5a4f8b7",
   "metadata": {},
   "outputs": [
    {
     "data": {
      "text/html": [
       "<div>\n",
       "<style scoped>\n",
       "    .dataframe tbody tr th:only-of-type {\n",
       "        vertical-align: middle;\n",
       "    }\n",
       "\n",
       "    .dataframe tbody tr th {\n",
       "        vertical-align: top;\n",
       "    }\n",
       "\n",
       "    .dataframe thead th {\n",
       "        text-align: right;\n",
       "    }\n",
       "</style>\n",
       "<table border=\"1\" class=\"dataframe\">\n",
       "  <thead>\n",
       "    <tr style=\"text-align: right;\">\n",
       "      <th></th>\n",
       "      <th>CreditScore</th>\n",
       "      <th>Geography</th>\n",
       "      <th>Gender</th>\n",
       "      <th>Age</th>\n",
       "      <th>Tenure</th>\n",
       "      <th>Balance</th>\n",
       "      <th>NumOfProducts</th>\n",
       "      <th>HasCrCard</th>\n",
       "      <th>IsActiveMember</th>\n",
       "      <th>EstimatedSalary</th>\n",
       "      <th>Exited</th>\n",
       "    </tr>\n",
       "  </thead>\n",
       "  <tbody>\n",
       "    <tr>\n",
       "      <th>0</th>\n",
       "      <td>619</td>\n",
       "      <td>France</td>\n",
       "      <td>Female</td>\n",
       "      <td>42</td>\n",
       "      <td>2</td>\n",
       "      <td>0.00</td>\n",
       "      <td>1</td>\n",
       "      <td>1</td>\n",
       "      <td>1</td>\n",
       "      <td>101348.88</td>\n",
       "      <td>1</td>\n",
       "    </tr>\n",
       "    <tr>\n",
       "      <th>1</th>\n",
       "      <td>608</td>\n",
       "      <td>Spain</td>\n",
       "      <td>Female</td>\n",
       "      <td>41</td>\n",
       "      <td>1</td>\n",
       "      <td>83807.86</td>\n",
       "      <td>1</td>\n",
       "      <td>0</td>\n",
       "      <td>1</td>\n",
       "      <td>112542.58</td>\n",
       "      <td>0</td>\n",
       "    </tr>\n",
       "    <tr>\n",
       "      <th>2</th>\n",
       "      <td>502</td>\n",
       "      <td>France</td>\n",
       "      <td>Female</td>\n",
       "      <td>42</td>\n",
       "      <td>8</td>\n",
       "      <td>159660.80</td>\n",
       "      <td>3</td>\n",
       "      <td>1</td>\n",
       "      <td>0</td>\n",
       "      <td>113931.57</td>\n",
       "      <td>1</td>\n",
       "    </tr>\n",
       "    <tr>\n",
       "      <th>3</th>\n",
       "      <td>699</td>\n",
       "      <td>France</td>\n",
       "      <td>Female</td>\n",
       "      <td>39</td>\n",
       "      <td>1</td>\n",
       "      <td>0.00</td>\n",
       "      <td>2</td>\n",
       "      <td>0</td>\n",
       "      <td>0</td>\n",
       "      <td>93826.63</td>\n",
       "      <td>0</td>\n",
       "    </tr>\n",
       "    <tr>\n",
       "      <th>4</th>\n",
       "      <td>850</td>\n",
       "      <td>Spain</td>\n",
       "      <td>Female</td>\n",
       "      <td>43</td>\n",
       "      <td>2</td>\n",
       "      <td>125510.82</td>\n",
       "      <td>1</td>\n",
       "      <td>1</td>\n",
       "      <td>1</td>\n",
       "      <td>79084.10</td>\n",
       "      <td>0</td>\n",
       "    </tr>\n",
       "  </tbody>\n",
       "</table>\n",
       "</div>"
      ],
      "text/plain": [
       "   CreditScore Geography  Gender  Age  Tenure    Balance  NumOfProducts  \\\n",
       "0          619    France  Female   42       2       0.00              1   \n",
       "1          608     Spain  Female   41       1   83807.86              1   \n",
       "2          502    France  Female   42       8  159660.80              3   \n",
       "3          699    France  Female   39       1       0.00              2   \n",
       "4          850     Spain  Female   43       2  125510.82              1   \n",
       "\n",
       "   HasCrCard  IsActiveMember  EstimatedSalary  Exited  \n",
       "0          1               1        101348.88       1  \n",
       "1          0               1        112542.58       0  \n",
       "2          1               0        113931.57       1  \n",
       "3          0               0         93826.63       0  \n",
       "4          1               1         79084.10       0  "
      ]
     },
     "execution_count": 93,
     "metadata": {},
     "output_type": "execute_result"
    }
   ],
   "source": [
    "df.head()"
   ]
  },
  {
   "cell_type": "code",
   "execution_count": 14,
   "id": "bd0de444",
   "metadata": {},
   "outputs": [],
   "source": [
    "import matplotlib.pyplot as plt"
   ]
  },
  {
   "cell_type": "code",
   "execution_count": 77,
   "id": "b3ee2a4b",
   "metadata": {},
   "outputs": [
    {
     "data": {
      "text/plain": [
       "<AxesSubplot: xlabel='Gender'>"
      ]
     },
     "execution_count": 77,
     "metadata": {},
     "output_type": "execute_result"
    },
    {
     "data": {
      "image/png": "[encoded data removed]",
      "text/plain": [
       "<Figure size 640x480 with 1 Axes>"
      ]
     },
     "metadata": {},
     "output_type": "display_data"
    }
   ],
   "source": [
    "gender_exited_counts = df.groupby(['Gender','Exited']).size().unstack()\n",
    "gender_exited_counts.plot(kind='bar', stacked=True)"
   ]
  },
  {
   "cell_type": "code",
   "execution_count": 78,
   "id": "42df59fc",
   "metadata": {},
   "outputs": [
    {
     "data": {
      "text/plain": [
       "<AxesSubplot: xlabel='IsActiveMember'>"
      ]
     },
     "execution_count": 78,
     "metadata": {},
     "output_type": "execute_result"
    },
    {
     "data": {
      "image/png": "[encoded data removed]",
      "text/plain": [
       "<Figure size 640x480 with 1 Axes>"
      ]
     },
     "metadata": {},
     "output_type": "display_data"
    }
   ],
   "source": [
    "gender_exited_counts = df.groupby(['IsActiveMember', 'Exited']).size().unstack()\n",
    "gender_exited_counts.plot(kind='bar', stacked=True)"
   ]
  },
  {
   "cell_type": "code",
   "execution_count": 79,
   "id": "fe8c95ca",
   "metadata": {},
   "outputs": [
    {
     "data": {
      "text/plain": [
       "<AxesSubplot: xlabel='HasCrCard'>"
      ]
     },
     "execution_count": 79,
     "metadata": {},
     "output_type": "execute_result"
    },
    {
     "data": {
      "image/png": "[encoded data removed]",
      "text/plain": [
       "<Figure size 640x480 with 1 Axes>"
      ]
     },
     "metadata": {},
     "output_type": "display_data"
    }
   ],
   "source": [
    "gender_exited_counts = df.groupby(['HasCrCard', 'Exited']).size().unstack()\n",
    "gender_exited_counts.plot(kind='bar', stacked=True)"
   ]
  },
  {
   "cell_type": "code",
   "execution_count": 84,
   "id": "f849c2ee",
   "metadata": {},
   "outputs": [
    {
     "data": {
      "text/html": [
       "<div>\n",
       "<style scoped>\n",
       "    .dataframe tbody tr th:only-of-type {\n",
       "        vertical-align: middle;\n",
       "    }\n",
       "\n",
       "    .dataframe tbody tr th {\n",
       "        vertical-align: top;\n",
       "    }\n",
       "\n",
       "    .dataframe thead th {\n",
       "        text-align: right;\n",
       "    }\n",
       "</style>\n",
       "<table border=\"1\" class=\"dataframe\">\n",
       "  <thead>\n",
       "    <tr style=\"text-align: right;\">\n",
       "      <th></th>\n",
       "      <th>Tenure</th>\n",
       "      <th>Balance</th>\n",
       "      <th>NumOfProducts</th>\n",
       "      <th>EstimatedSalary</th>\n",
       "    </tr>\n",
       "  </thead>\n",
       "  <tbody>\n",
       "    <tr>\n",
       "      <th>count</th>\n",
       "      <td>2037.000000</td>\n",
       "      <td>2037.000000</td>\n",
       "      <td>2037.000000</td>\n",
       "      <td>2037.000000</td>\n",
       "    </tr>\n",
       "    <tr>\n",
       "      <th>mean</th>\n",
       "      <td>4.932744</td>\n",
       "      <td>91108.539337</td>\n",
       "      <td>1.475209</td>\n",
       "      <td>101465.677531</td>\n",
       "    </tr>\n",
       "    <tr>\n",
       "      <th>std</th>\n",
       "      <td>2.936106</td>\n",
       "      <td>58360.794816</td>\n",
       "      <td>0.801521</td>\n",
       "      <td>57912.418071</td>\n",
       "    </tr>\n",
       "    <tr>\n",
       "      <th>min</th>\n",
       "      <td>0.000000</td>\n",
       "      <td>0.000000</td>\n",
       "      <td>1.000000</td>\n",
       "      <td>11.580000</td>\n",
       "    </tr>\n",
       "    <tr>\n",
       "      <th>25%</th>\n",
       "      <td>2.000000</td>\n",
       "      <td>38340.020000</td>\n",
       "      <td>1.000000</td>\n",
       "      <td>51907.720000</td>\n",
       "    </tr>\n",
       "    <tr>\n",
       "      <th>50%</th>\n",
       "      <td>5.000000</td>\n",
       "      <td>109349.290000</td>\n",
       "      <td>1.000000</td>\n",
       "      <td>102460.840000</td>\n",
       "    </tr>\n",
       "    <tr>\n",
       "      <th>75%</th>\n",
       "      <td>8.000000</td>\n",
       "      <td>131433.330000</td>\n",
       "      <td>2.000000</td>\n",
       "      <td>152422.910000</td>\n",
       "    </tr>\n",
       "    <tr>\n",
       "      <th>max</th>\n",
       "      <td>10.000000</td>\n",
       "      <td>250898.090000</td>\n",
       "      <td>4.000000</td>\n",
       "      <td>199808.100000</td>\n",
       "    </tr>\n",
       "  </tbody>\n",
       "</table>\n",
       "</div>"
      ],
      "text/plain": [
       "            Tenure        Balance  NumOfProducts  EstimatedSalary\n",
       "count  2037.000000    2037.000000    2037.000000      2037.000000\n",
       "mean      4.932744   91108.539337       1.475209    101465.677531\n",
       "std       2.936106   58360.794816       0.801521     57912.418071\n",
       "min       0.000000       0.000000       1.000000        11.580000\n",
       "25%       2.000000   38340.020000       1.000000     51907.720000\n",
       "50%       5.000000  109349.290000       1.000000    102460.840000\n",
       "75%       8.000000  131433.330000       2.000000    152422.910000\n",
       "max      10.000000  250898.090000       4.000000    199808.100000"
      ]
     },
     "execution_count": 84,
     "metadata": {},
     "output_type": "execute_result"
    }
   ],
   "source": [
    "df[df['Exited']==1].describe()[['Tenure','Balance','NumOfProducts','EstimatedSalary']]"
   ]
  },
  {
   "cell_type": "code",
   "execution_count": 85,
   "id": "3a9c5a5c",
   "metadata": {},
   "outputs": [
    {
     "data": {
      "text/html": [
       "<div>\n",
       "<style scoped>\n",
       "    .dataframe tbody tr th:only-of-type {\n",
       "        vertical-align: middle;\n",
       "    }\n",
       "\n",
       "    .dataframe tbody tr th {\n",
       "        vertical-align: top;\n",
       "    }\n",
       "\n",
       "    .dataframe thead th {\n",
       "        text-align: right;\n",
       "    }\n",
       "</style>\n",
       "<table border=\"1\" class=\"dataframe\">\n",
       "  <thead>\n",
       "    <tr style=\"text-align: right;\">\n",
       "      <th></th>\n",
       "      <th>Tenure</th>\n",
       "      <th>Balance</th>\n",
       "      <th>NumOfProducts</th>\n",
       "      <th>EstimatedSalary</th>\n",
       "    </tr>\n",
       "  </thead>\n",
       "  <tbody>\n",
       "    <tr>\n",
       "      <th>count</th>\n",
       "      <td>7963.000000</td>\n",
       "      <td>7963.000000</td>\n",
       "      <td>7963.000000</td>\n",
       "      <td>7963.000000</td>\n",
       "    </tr>\n",
       "    <tr>\n",
       "      <th>mean</th>\n",
       "      <td>5.033279</td>\n",
       "      <td>72745.296779</td>\n",
       "      <td>1.544267</td>\n",
       "      <td>99738.391772</td>\n",
       "    </tr>\n",
       "    <tr>\n",
       "      <th>std</th>\n",
       "      <td>2.880658</td>\n",
       "      <td>62848.040701</td>\n",
       "      <td>0.509536</td>\n",
       "      <td>57405.586966</td>\n",
       "    </tr>\n",
       "    <tr>\n",
       "      <th>min</th>\n",
       "      <td>0.000000</td>\n",
       "      <td>0.000000</td>\n",
       "      <td>1.000000</td>\n",
       "      <td>90.070000</td>\n",
       "    </tr>\n",
       "    <tr>\n",
       "      <th>25%</th>\n",
       "      <td>3.000000</td>\n",
       "      <td>0.000000</td>\n",
       "      <td>1.000000</td>\n",
       "      <td>50783.490000</td>\n",
       "    </tr>\n",
       "    <tr>\n",
       "      <th>50%</th>\n",
       "      <td>5.000000</td>\n",
       "      <td>92072.680000</td>\n",
       "      <td>2.000000</td>\n",
       "      <td>99645.040000</td>\n",
       "    </tr>\n",
       "    <tr>\n",
       "      <th>75%</th>\n",
       "      <td>7.000000</td>\n",
       "      <td>126410.280000</td>\n",
       "      <td>2.000000</td>\n",
       "      <td>148609.955000</td>\n",
       "    </tr>\n",
       "    <tr>\n",
       "      <th>max</th>\n",
       "      <td>10.000000</td>\n",
       "      <td>221532.800000</td>\n",
       "      <td>3.000000</td>\n",
       "      <td>199992.480000</td>\n",
       "    </tr>\n",
       "  </tbody>\n",
       "</table>\n",
       "</div>"
      ],
      "text/plain": [
       "            Tenure        Balance  NumOfProducts  EstimatedSalary\n",
       "count  7963.000000    7963.000000    7963.000000      7963.000000\n",
       "mean      5.033279   72745.296779       1.544267     99738.391772\n",
       "std       2.880658   62848.040701       0.509536     57405.586966\n",
       "min       0.000000       0.000000       1.000000        90.070000\n",
       "25%       3.000000       0.000000       1.000000     50783.490000\n",
       "50%       5.000000   92072.680000       2.000000     99645.040000\n",
       "75%       7.000000  126410.280000       2.000000    148609.955000\n",
       "max      10.000000  221532.800000       3.000000    199992.480000"
      ]
     },
     "execution_count": 85,
     "metadata": {},
     "output_type": "execute_result"
    }
   ],
   "source": [
    "df[df['Exited']==0].describe()[['Tenure','Balance','NumOfProducts','EstimatedSalary']]"
   ]
  },
  {
   "cell_type": "code",
   "execution_count": 158,
   "id": "6c06d9f5",
   "metadata": {},
   "outputs": [
    {
     "data": {
      "image/png": "[encoded data removed]",
      "text/plain": [
       "<Figure size 640x480 with 1 Axes>"
      ]
     },
     "metadata": {},
     "output_type": "display_data"
    }
   ],
   "source": [
    "exited = df[df['Exited'] == 1]\n",
    "plt.scatter(exited['EstimatedSalary'],exited['Balance'], color = 'red',label = 'exited')\n",
    "\n",
    "not_exited = df[df['Exited'] == 0]\n",
    "plt.scatter(not_exited['EstimatedSalary'],not_exited['Balance'],color = 'green',label = 'not exited')\n",
    "\n",
    "plt.xlabel('EstimatedSalary')\n",
    "plt.ylabel('Balance')\n",
    "plt.legend()\n",
    "plt.show()"
   ]
  },
  {
   "cell_type": "code",
   "execution_count": 86,
   "id": "b2c92a42",
   "metadata": {},
   "outputs": [
    {
     "data": {
      "text/plain": [
       "France     5014\n",
       "Germany    2509\n",
       "Spain      2477\n",
       "Name: Geography, dtype: int64"
      ]
     },
     "execution_count": 86,
     "metadata": {},
     "output_type": "execute_result"
    }
   ],
   "source": [
    "df['Geography'].value_counts()"
   ]
  },
  {
   "cell_type": "code",
   "execution_count": 87,
   "id": "5e0407e6",
   "metadata": {},
   "outputs": [
    {
     "data": {
      "text/plain": [
       "Male      5457\n",
       "Female    4543\n",
       "Name: Gender, dtype: int64"
      ]
     },
     "execution_count": 87,
     "metadata": {},
     "output_type": "execute_result"
    }
   ],
   "source": [
    "df['Gender'].value_counts()"
   ]
  },
  {
   "cell_type": "code",
   "execution_count": 159,
   "id": "ba170702",
   "metadata": {},
   "outputs": [],
   "source": [
    "df = pd.get_dummies(df,columns=['Gender','Geography'],drop_first = True)"
   ]
  },
  {
   "cell_type": "code",
   "execution_count": 160,
   "id": "d1203130",
   "metadata": {},
   "outputs": [
    {
     "data": {
      "text/html": [
       "<div>\n",
       "<style scoped>\n",
       "    .dataframe tbody tr th:only-of-type {\n",
       "        vertical-align: middle;\n",
       "    }\n",
       "\n",
       "    .dataframe tbody tr th {\n",
       "        vertical-align: top;\n",
       "    }\n",
       "\n",
       "    .dataframe thead th {\n",
       "        text-align: right;\n",
       "    }\n",
       "</style>\n",
       "<table border=\"1\" class=\"dataframe\">\n",
       "  <thead>\n",
       "    <tr style=\"text-align: right;\">\n",
       "      <th></th>\n",
       "      <th>CreditScore</th>\n",
       "      <th>Age</th>\n",
       "      <th>Tenure</th>\n",
       "      <th>Balance</th>\n",
       "      <th>NumOfProducts</th>\n",
       "      <th>HasCrCard</th>\n",
       "      <th>IsActiveMember</th>\n",
       "      <th>EstimatedSalary</th>\n",
       "      <th>Exited</th>\n",
       "      <th>Gender_Male</th>\n",
       "      <th>Geography_Germany</th>\n",
       "      <th>Geography_Spain</th>\n",
       "    </tr>\n",
       "  </thead>\n",
       "  <tbody>\n",
       "    <tr>\n",
       "      <th>0</th>\n",
       "      <td>619</td>\n",
       "      <td>42</td>\n",
       "      <td>2</td>\n",
       "      <td>0.00</td>\n",
       "      <td>1</td>\n",
       "      <td>1</td>\n",
       "      <td>1</td>\n",
       "      <td>101348.88</td>\n",
       "      <td>1</td>\n",
       "      <td>0</td>\n",
       "      <td>0</td>\n",
       "      <td>0</td>\n",
       "    </tr>\n",
       "    <tr>\n",
       "      <th>1</th>\n",
       "      <td>608</td>\n",
       "      <td>41</td>\n",
       "      <td>1</td>\n",
       "      <td>83807.86</td>\n",
       "      <td>1</td>\n",
       "      <td>0</td>\n",
       "      <td>1</td>\n",
       "      <td>112542.58</td>\n",
       "      <td>0</td>\n",
       "      <td>0</td>\n",
       "      <td>0</td>\n",
       "      <td>1</td>\n",
       "    </tr>\n",
       "    <tr>\n",
       "      <th>2</th>\n",
       "      <td>502</td>\n",
       "      <td>42</td>\n",
       "      <td>8</td>\n",
       "      <td>159660.80</td>\n",
       "      <td>3</td>\n",
       "      <td>1</td>\n",
       "      <td>0</td>\n",
       "      <td>113931.57</td>\n",
       "      <td>1</td>\n",
       "      <td>0</td>\n",
       "      <td>0</td>\n",
       "      <td>0</td>\n",
       "    </tr>\n",
       "    <tr>\n",
       "      <th>3</th>\n",
       "      <td>699</td>\n",
       "      <td>39</td>\n",
       "      <td>1</td>\n",
       "      <td>0.00</td>\n",
       "      <td>2</td>\n",
       "      <td>0</td>\n",
       "      <td>0</td>\n",
       "      <td>93826.63</td>\n",
       "      <td>0</td>\n",
       "      <td>0</td>\n",
       "      <td>0</td>\n",
       "      <td>0</td>\n",
       "    </tr>\n",
       "    <tr>\n",
       "      <th>4</th>\n",
       "      <td>850</td>\n",
       "      <td>43</td>\n",
       "      <td>2</td>\n",
       "      <td>125510.82</td>\n",
       "      <td>1</td>\n",
       "      <td>1</td>\n",
       "      <td>1</td>\n",
       "      <td>79084.10</td>\n",
       "      <td>0</td>\n",
       "      <td>0</td>\n",
       "      <td>0</td>\n",
       "      <td>1</td>\n",
       "    </tr>\n",
       "  </tbody>\n",
       "</table>\n",
       "</div>"
      ],
      "text/plain": [
       "   CreditScore  Age  Tenure    Balance  NumOfProducts  HasCrCard  \\\n",
       "0          619   42       2       0.00              1          1   \n",
       "1          608   41       1   83807.86              1          0   \n",
       "2          502   42       8  159660.80              3          1   \n",
       "3          699   39       1       0.00              2          0   \n",
       "4          850   43       2  125510.82              1          1   \n",
       "\n",
       "   IsActiveMember  EstimatedSalary  Exited  Gender_Male  Geography_Germany  \\\n",
       "0               1        101348.88       1            0                  0   \n",
       "1               1        112542.58       0            0                  0   \n",
       "2               0        113931.57       1            0                  0   \n",
       "3               0         93826.63       0            0                  0   \n",
       "4               1         79084.10       0            0                  0   \n",
       "\n",
       "   Geography_Spain  \n",
       "0                0  \n",
       "1                1  \n",
       "2                0  \n",
       "3                0  \n",
       "4                1  "
      ]
     },
     "execution_count": 160,
     "metadata": {},
     "output_type": "execute_result"
    }
   ],
   "source": [
    "df.head()"
   ]
  },
  {
   "cell_type": "code",
   "execution_count": 161,
   "id": "36782511",
   "metadata": {},
   "outputs": [],
   "source": [
    "X = df.drop(columns = ['Exited'])\n",
    "y = df['Exited'].values"
   ]
  },
  {
   "cell_type": "code",
   "execution_count": 162,
   "id": "f554e2ad",
   "metadata": {},
   "outputs": [],
   "source": [
    "from sklearn.model_selection import train_test_split\n",
    "X_train,X_test,y_train,y_test = train_test_split(X,y,test_size = 0.2, random_state = 0)"
   ]
  },
  {
   "cell_type": "code",
   "execution_count": 163,
   "id": "2d63e2e3",
   "metadata": {},
   "outputs": [],
   "source": [
    "from sklearn.preprocessing import StandardScaler\n",
    "scaler = StandardScaler()\n",
    "X_train_scaled = scaler.fit_transform(X_train)\n",
    "X_test_scaled = scaler.transform(X_test)"
   ]
  },
  {
   "cell_type": "code",
   "execution_count": 164,
   "id": "706f747b",
   "metadata": {},
   "outputs": [],
   "source": [
    "import tensorflow\n",
    "from tensorflow import keras\n",
    "from tensorflow.keras import Sequential\n",
    "from tensorflow.keras.layers import Dense"
   ]
  },
  {
   "cell_type": "code",
   "execution_count": 173,
   "id": "f9852f36",
   "metadata": {},
   "outputs": [],
   "source": [
    "model = Sequential()\n",
    "model.add(Dense(10,activation='sigmoid',input_dim=11))\n",
    "model.add(Dense(10,activation='sigmoid'))\n",
    "model.add(Dense(10,activation='sigmoid'))\n",
    "model.add(Dense(10,activation='sigmoid'))\n",
    "model.add(Dense(1,activation='sigmoid'))"
   ]
  },
  {
   "cell_type": "code",
   "execution_count": 174,
   "id": "8d07d240",
   "metadata": {},
   "outputs": [
    {
     "name": "stdout",
     "output_type": "stream",
     "text": [
      "Model: \"sequential_8\"\n",
      "_________________________________________________________________\n",
      " Layer (type)                Output Shape              Param #   \n",
      "=================================================================\n",
      " dense_25 (Dense)            (None, 10)                120       \n",
      "                                                                 \n",
      " dense_26 (Dense)            (None, 10)                110       \n",
      "                                                                 \n",
      " dense_27 (Dense)            (None, 10)                110       \n",
      "                                                                 \n",
      " dense_28 (Dense)            (None, 10)                110       \n",
      "                                                                 \n",
      " dense_29 (Dense)            (None, 1)                 11        \n",
      "                                                                 \n",
      "=================================================================\n",
      "Total params: 461 (1.80 KB)\n",
      "Trainable params: 461 (1.80 KB)\n",
      "Non-trainable params: 0 (0.00 Byte)\n",
      "_________________________________________________________________\n"
     ]
    }
   ],
   "source": [
    "model.summary()"
   ]
  },
  {
   "cell_type": "code",
   "execution_count": 175,
   "id": "8c73765f",
   "metadata": {},
   "outputs": [],
   "source": [
    "model.compile(optimizer='Adam',loss='binary_crossentropy',metrics=['accuracy'])"
   ]
  },
  {
   "cell_type": "code",
   "execution_count": 176,
   "id": "b4886c24",
   "metadata": {},
   "outputs": [
    {
     "name": "stdout",
     "output_type": "stream",
     "text": [
      "Epoch 1/100\n",
      "128/128 [==============================] - 0s 1ms/step - loss: 0.5384 - accuracy: 0.7958 - val_loss: 0.5053 - val_accuracy: 0.7969\n",
      "Epoch 2/100\n",
      "128/128 [==============================] - 0s 551us/step - loss: 0.5055 - accuracy: 0.7958 - val_loss: 0.5034 - val_accuracy: 0.7969\n",
      "Epoch 3/100\n",
      "128/128 [==============================] - 0s 546us/step - loss: 0.5040 - accuracy: 0.7958 - val_loss: 0.5013 - val_accuracy: 0.7969\n",
      "Epoch 4/100\n",
      "128/128 [==============================] - 0s 536us/step - loss: 0.5006 - accuracy: 0.7958 - val_loss: 0.4957 - val_accuracy: 0.7969\n",
      "Epoch 5/100\n",
      "128/128 [==============================] - 0s 556us/step - loss: 0.4907 - accuracy: 0.7958 - val_loss: 0.4827 - val_accuracy: 0.7969\n",
      "Epoch 6/100\n",
      "128/128 [==============================] - 0s 563us/step - loss: 0.4716 - accuracy: 0.7958 - val_loss: 0.4613 - val_accuracy: 0.7969\n",
      "Epoch 7/100\n",
      "128/128 [==============================] - 0s 571us/step - loss: 0.4490 - accuracy: 0.7958 - val_loss: 0.4449 - val_accuracy: 0.7969\n",
      "Epoch 8/100\n",
      "128/128 [==============================] - 0s 543us/step - loss: 0.4353 - accuracy: 0.7958 - val_loss: 0.4380 - val_accuracy: 0.7969\n",
      "Epoch 9/100\n",
      "128/128 [==============================] - 0s 549us/step - loss: 0.4301 - accuracy: 0.7958 - val_loss: 0.4362 - val_accuracy: 0.7969\n",
      "Epoch 10/100\n",
      "128/128 [==============================] - 0s 564us/step - loss: 0.4285 - accuracy: 0.7958 - val_loss: 0.4355 - val_accuracy: 0.7969\n",
      "Epoch 11/100\n",
      "128/128 [==============================] - 0s 544us/step - loss: 0.4278 - accuracy: 0.7958 - val_loss: 0.4352 - val_accuracy: 0.7969\n",
      "Epoch 12/100\n",
      "128/128 [==============================] - 0s 553us/step - loss: 0.4272 - accuracy: 0.7953 - val_loss: 0.4349 - val_accuracy: 0.7969\n",
      "Epoch 13/100\n",
      "128/128 [==============================] - 0s 545us/step - loss: 0.4268 - accuracy: 0.7947 - val_loss: 0.4346 - val_accuracy: 0.7969\n",
      "Epoch 14/100\n",
      "128/128 [==============================] - 0s 546us/step - loss: 0.4268 - accuracy: 0.7966 - val_loss: 0.4341 - val_accuracy: 0.7969\n",
      "Epoch 15/100\n",
      "128/128 [==============================] - 0s 540us/step - loss: 0.4263 - accuracy: 0.7955 - val_loss: 0.4338 - val_accuracy: 0.7969\n",
      "Epoch 16/100\n",
      "128/128 [==============================] - 0s 562us/step - loss: 0.4261 - accuracy: 0.7970 - val_loss: 0.4334 - val_accuracy: 0.7969\n",
      "Epoch 17/100\n",
      "128/128 [==============================] - 0s 552us/step - loss: 0.4257 - accuracy: 0.7961 - val_loss: 0.4331 - val_accuracy: 0.7969\n",
      "Epoch 18/100\n",
      "128/128 [==============================] - 0s 559us/step - loss: 0.4254 - accuracy: 0.7978 - val_loss: 0.4328 - val_accuracy: 0.8094\n",
      "Epoch 19/100\n",
      "128/128 [==============================] - 0s 560us/step - loss: 0.4251 - accuracy: 0.8067 - val_loss: 0.4322 - val_accuracy: 0.7969\n",
      "Epoch 20/100\n",
      "128/128 [==============================] - 0s 547us/step - loss: 0.4248 - accuracy: 0.8050 - val_loss: 0.4314 - val_accuracy: 0.8062\n",
      "Epoch 21/100\n",
      "128/128 [==============================] - 0s 543us/step - loss: 0.4240 - accuracy: 0.8086 - val_loss: 0.4310 - val_accuracy: 0.7994\n",
      "Epoch 22/100\n",
      "128/128 [==============================] - 0s 552us/step - loss: 0.4235 - accuracy: 0.8094 - val_loss: 0.4301 - val_accuracy: 0.8019\n",
      "Epoch 23/100\n",
      "128/128 [==============================] - 0s 548us/step - loss: 0.4228 - accuracy: 0.8078 - val_loss: 0.4292 - val_accuracy: 0.8138\n",
      "Epoch 24/100\n",
      "128/128 [==============================] - 0s 547us/step - loss: 0.4217 - accuracy: 0.8119 - val_loss: 0.4287 - val_accuracy: 0.8131\n",
      "Epoch 25/100\n",
      "128/128 [==============================] - 0s 551us/step - loss: 0.4209 - accuracy: 0.8139 - val_loss: 0.4272 - val_accuracy: 0.8175\n",
      "Epoch 26/100\n",
      "128/128 [==============================] - 0s 547us/step - loss: 0.4197 - accuracy: 0.8169 - val_loss: 0.4253 - val_accuracy: 0.8175\n",
      "Epoch 27/100\n",
      "128/128 [==============================] - 0s 549us/step - loss: 0.4183 - accuracy: 0.8205 - val_loss: 0.4235 - val_accuracy: 0.8231\n",
      "Epoch 28/100\n",
      "128/128 [==============================] - 0s 626us/step - loss: 0.4167 - accuracy: 0.8206 - val_loss: 0.4215 - val_accuracy: 0.8238\n",
      "Epoch 29/100\n",
      "128/128 [==============================] - 0s 546us/step - loss: 0.4146 - accuracy: 0.8223 - val_loss: 0.4197 - val_accuracy: 0.8244\n",
      "Epoch 30/100\n",
      "128/128 [==============================] - 0s 552us/step - loss: 0.4123 - accuracy: 0.8223 - val_loss: 0.4166 - val_accuracy: 0.8281\n",
      "Epoch 31/100\n",
      "128/128 [==============================] - 0s 551us/step - loss: 0.4099 - accuracy: 0.8256 - val_loss: 0.4141 - val_accuracy: 0.8313\n",
      "Epoch 32/100\n",
      "128/128 [==============================] - 0s 553us/step - loss: 0.4071 - accuracy: 0.8275 - val_loss: 0.4127 - val_accuracy: 0.8263\n",
      "Epoch 33/100\n",
      "128/128 [==============================] - 0s 551us/step - loss: 0.4051 - accuracy: 0.8273 - val_loss: 0.4087 - val_accuracy: 0.8338\n",
      "Epoch 34/100\n",
      "128/128 [==============================] - 0s 549us/step - loss: 0.4018 - accuracy: 0.8309 - val_loss: 0.4057 - val_accuracy: 0.8350\n",
      "Epoch 35/100\n",
      "128/128 [==============================] - 0s 579us/step - loss: 0.3984 - accuracy: 0.8341 - val_loss: 0.4035 - val_accuracy: 0.8369\n",
      "Epoch 36/100\n",
      "128/128 [==============================] - 0s 571us/step - loss: 0.3962 - accuracy: 0.8338 - val_loss: 0.3999 - val_accuracy: 0.8400\n",
      "Epoch 37/100\n",
      "128/128 [==============================] - 0s 545us/step - loss: 0.3923 - accuracy: 0.8381 - val_loss: 0.3981 - val_accuracy: 0.8375\n",
      "Epoch 38/100\n",
      "128/128 [==============================] - 0s 550us/step - loss: 0.3894 - accuracy: 0.8392 - val_loss: 0.3938 - val_accuracy: 0.8413\n",
      "Epoch 39/100\n",
      "128/128 [==============================] - 0s 541us/step - loss: 0.3864 - accuracy: 0.8402 - val_loss: 0.3915 - val_accuracy: 0.8394\n",
      "Epoch 40/100\n",
      "128/128 [==============================] - 0s 546us/step - loss: 0.3827 - accuracy: 0.8403 - val_loss: 0.3881 - val_accuracy: 0.8431\n",
      "Epoch 41/100\n",
      "128/128 [==============================] - 0s 548us/step - loss: 0.3794 - accuracy: 0.8434 - val_loss: 0.3852 - val_accuracy: 0.8475\n",
      "Epoch 42/100\n",
      "128/128 [==============================] - 0s 549us/step - loss: 0.3763 - accuracy: 0.8467 - val_loss: 0.3822 - val_accuracy: 0.8444\n",
      "Epoch 43/100\n",
      "128/128 [==============================] - 0s 590us/step - loss: 0.3733 - accuracy: 0.8462 - val_loss: 0.3813 - val_accuracy: 0.8456\n",
      "Epoch 44/100\n",
      "128/128 [==============================] - 0s 564us/step - loss: 0.3710 - accuracy: 0.8481 - val_loss: 0.3787 - val_accuracy: 0.8469\n",
      "Epoch 45/100\n",
      "128/128 [==============================] - 0s 540us/step - loss: 0.3693 - accuracy: 0.8523 - val_loss: 0.3752 - val_accuracy: 0.8494\n",
      "Epoch 46/100\n",
      "128/128 [==============================] - 0s 585us/step - loss: 0.3661 - accuracy: 0.8500 - val_loss: 0.3731 - val_accuracy: 0.8512\n",
      "Epoch 47/100\n",
      "128/128 [==============================] - 0s 557us/step - loss: 0.3637 - accuracy: 0.8502 - val_loss: 0.3718 - val_accuracy: 0.8475\n",
      "Epoch 48/100\n",
      "128/128 [==============================] - 0s 639us/step - loss: 0.3614 - accuracy: 0.8527 - val_loss: 0.3709 - val_accuracy: 0.8537\n",
      "Epoch 49/100\n",
      "128/128 [==============================] - 0s 544us/step - loss: 0.3594 - accuracy: 0.8550 - val_loss: 0.3683 - val_accuracy: 0.8506\n",
      "Epoch 50/100\n",
      "128/128 [==============================] - 0s 552us/step - loss: 0.3577 - accuracy: 0.8528 - val_loss: 0.3678 - val_accuracy: 0.8544\n",
      "Epoch 51/100\n",
      "128/128 [==============================] - 0s 545us/step - loss: 0.3560 - accuracy: 0.8542 - val_loss: 0.3663 - val_accuracy: 0.8562\n",
      "Epoch 52/100\n",
      "128/128 [==============================] - 0s 544us/step - loss: 0.3549 - accuracy: 0.8547 - val_loss: 0.3661 - val_accuracy: 0.8569\n",
      "Epoch 53/100\n",
      "128/128 [==============================] - 0s 552us/step - loss: 0.3530 - accuracy: 0.8572 - val_loss: 0.3649 - val_accuracy: 0.8531\n",
      "Epoch 54/100\n",
      "128/128 [==============================] - 0s 547us/step - loss: 0.3515 - accuracy: 0.8577 - val_loss: 0.3641 - val_accuracy: 0.8544\n",
      "Epoch 55/100\n",
      "128/128 [==============================] - 0s 542us/step - loss: 0.3507 - accuracy: 0.8561 - val_loss: 0.3630 - val_accuracy: 0.8587\n",
      "Epoch 56/100\n",
      "128/128 [==============================] - 0s 542us/step - loss: 0.3496 - accuracy: 0.8591 - val_loss: 0.3632 - val_accuracy: 0.8537\n",
      "Epoch 57/100\n"
     ]
    },
    {
     "name": "stdout",
     "output_type": "stream",
     "text": [
      "128/128 [==============================] - 0s 539us/step - loss: 0.3489 - accuracy: 0.8591 - val_loss: 0.3623 - val_accuracy: 0.8556\n",
      "Epoch 58/100\n",
      "128/128 [==============================] - 0s 553us/step - loss: 0.3480 - accuracy: 0.8589 - val_loss: 0.3624 - val_accuracy: 0.8544\n",
      "Epoch 59/100\n",
      "128/128 [==============================] - 0s 536us/step - loss: 0.3474 - accuracy: 0.8597 - val_loss: 0.3613 - val_accuracy: 0.8575\n",
      "Epoch 60/100\n",
      "128/128 [==============================] - 0s 538us/step - loss: 0.3461 - accuracy: 0.8609 - val_loss: 0.3621 - val_accuracy: 0.8537\n",
      "Epoch 61/100\n",
      "128/128 [==============================] - 0s 536us/step - loss: 0.3461 - accuracy: 0.8589 - val_loss: 0.3607 - val_accuracy: 0.8569\n",
      "Epoch 62/100\n",
      "128/128 [==============================] - 0s 560us/step - loss: 0.3440 - accuracy: 0.8614 - val_loss: 0.3612 - val_accuracy: 0.8569\n",
      "Epoch 63/100\n",
      "128/128 [==============================] - 0s 548us/step - loss: 0.3444 - accuracy: 0.8598 - val_loss: 0.3606 - val_accuracy: 0.8550\n",
      "Epoch 64/100\n",
      "128/128 [==============================] - 0s 539us/step - loss: 0.3438 - accuracy: 0.8611 - val_loss: 0.3615 - val_accuracy: 0.8569\n",
      "Epoch 65/100\n",
      "128/128 [==============================] - 0s 537us/step - loss: 0.3431 - accuracy: 0.8627 - val_loss: 0.3603 - val_accuracy: 0.8575\n",
      "Epoch 66/100\n",
      "128/128 [==============================] - 0s 538us/step - loss: 0.3425 - accuracy: 0.8625 - val_loss: 0.3596 - val_accuracy: 0.8612\n",
      "Epoch 67/100\n",
      "128/128 [==============================] - 0s 538us/step - loss: 0.3431 - accuracy: 0.8623 - val_loss: 0.3600 - val_accuracy: 0.8587\n",
      "Epoch 68/100\n",
      "128/128 [==============================] - 0s 540us/step - loss: 0.3427 - accuracy: 0.8619 - val_loss: 0.3597 - val_accuracy: 0.8562\n",
      "Epoch 69/100\n",
      "128/128 [==============================] - 0s 537us/step - loss: 0.3416 - accuracy: 0.8633 - val_loss: 0.3591 - val_accuracy: 0.8575\n",
      "Epoch 70/100\n",
      "128/128 [==============================] - 0s 539us/step - loss: 0.3409 - accuracy: 0.8633 - val_loss: 0.3612 - val_accuracy: 0.8594\n",
      "Epoch 71/100\n",
      "128/128 [==============================] - 0s 545us/step - loss: 0.3416 - accuracy: 0.8634 - val_loss: 0.3613 - val_accuracy: 0.8569\n",
      "Epoch 72/100\n",
      "128/128 [==============================] - 0s 535us/step - loss: 0.3410 - accuracy: 0.8642 - val_loss: 0.3593 - val_accuracy: 0.8550\n",
      "Epoch 73/100\n",
      "128/128 [==============================] - 0s 539us/step - loss: 0.3402 - accuracy: 0.8631 - val_loss: 0.3590 - val_accuracy: 0.8562\n",
      "Epoch 74/100\n",
      "128/128 [==============================] - 0s 540us/step - loss: 0.3402 - accuracy: 0.8636 - val_loss: 0.3589 - val_accuracy: 0.8569\n",
      "Epoch 75/100\n",
      "128/128 [==============================] - 0s 543us/step - loss: 0.3398 - accuracy: 0.8625 - val_loss: 0.3598 - val_accuracy: 0.8562\n",
      "Epoch 76/100\n",
      "128/128 [==============================] - 0s 537us/step - loss: 0.3396 - accuracy: 0.8614 - val_loss: 0.3590 - val_accuracy: 0.8562\n",
      "Epoch 77/100\n",
      "128/128 [==============================] - 0s 540us/step - loss: 0.3390 - accuracy: 0.8633 - val_loss: 0.3590 - val_accuracy: 0.8556\n",
      "Epoch 78/100\n",
      "128/128 [==============================] - 0s 545us/step - loss: 0.3391 - accuracy: 0.8628 - val_loss: 0.3614 - val_accuracy: 0.8537\n",
      "Epoch 79/100\n",
      "128/128 [==============================] - 0s 543us/step - loss: 0.3388 - accuracy: 0.8625 - val_loss: 0.3597 - val_accuracy: 0.8569\n",
      "Epoch 80/100\n",
      "128/128 [==============================] - 0s 543us/step - loss: 0.3381 - accuracy: 0.8641 - val_loss: 0.3594 - val_accuracy: 0.8562\n",
      "Epoch 81/100\n",
      "128/128 [==============================] - 0s 541us/step - loss: 0.3380 - accuracy: 0.8614 - val_loss: 0.3591 - val_accuracy: 0.8569\n",
      "Epoch 82/100\n",
      "128/128 [==============================] - 0s 542us/step - loss: 0.3372 - accuracy: 0.8620 - val_loss: 0.3588 - val_accuracy: 0.8556\n",
      "Epoch 83/100\n",
      "128/128 [==============================] - 0s 543us/step - loss: 0.3380 - accuracy: 0.8637 - val_loss: 0.3584 - val_accuracy: 0.8556\n",
      "Epoch 84/100\n",
      "128/128 [==============================] - 0s 551us/step - loss: 0.3380 - accuracy: 0.8641 - val_loss: 0.3584 - val_accuracy: 0.8556\n",
      "Epoch 85/100\n",
      "128/128 [==============================] - 0s 628us/step - loss: 0.3380 - accuracy: 0.8630 - val_loss: 0.3586 - val_accuracy: 0.8550\n",
      "Epoch 86/100\n",
      "128/128 [==============================] - 0s 547us/step - loss: 0.3377 - accuracy: 0.8639 - val_loss: 0.3591 - val_accuracy: 0.8525\n",
      "Epoch 87/100\n",
      "128/128 [==============================] - 0s 540us/step - loss: 0.3363 - accuracy: 0.8650 - val_loss: 0.3585 - val_accuracy: 0.8550\n",
      "Epoch 88/100\n",
      "128/128 [==============================] - 0s 544us/step - loss: 0.3368 - accuracy: 0.8633 - val_loss: 0.3581 - val_accuracy: 0.8544\n",
      "Epoch 89/100\n",
      "128/128 [==============================] - 0s 544us/step - loss: 0.3368 - accuracy: 0.8645 - val_loss: 0.3588 - val_accuracy: 0.8550\n",
      "Epoch 90/100\n",
      "128/128 [==============================] - 0s 545us/step - loss: 0.3367 - accuracy: 0.8634 - val_loss: 0.3603 - val_accuracy: 0.8544\n",
      "Epoch 91/100\n",
      "128/128 [==============================] - 0s 547us/step - loss: 0.3372 - accuracy: 0.8642 - val_loss: 0.3584 - val_accuracy: 0.8544\n",
      "Epoch 92/100\n",
      "128/128 [==============================] - 0s 546us/step - loss: 0.3366 - accuracy: 0.8644 - val_loss: 0.3597 - val_accuracy: 0.8544\n",
      "Epoch 93/100\n",
      "128/128 [==============================] - 0s 544us/step - loss: 0.3365 - accuracy: 0.8631 - val_loss: 0.3586 - val_accuracy: 0.8537\n",
      "Epoch 94/100\n",
      "128/128 [==============================] - 0s 546us/step - loss: 0.3359 - accuracy: 0.8620 - val_loss: 0.3592 - val_accuracy: 0.8544\n",
      "Epoch 95/100\n",
      "128/128 [==============================] - 0s 551us/step - loss: 0.3352 - accuracy: 0.8634 - val_loss: 0.3584 - val_accuracy: 0.8550\n",
      "Epoch 96/100\n",
      "128/128 [==============================] - 0s 538us/step - loss: 0.3363 - accuracy: 0.8644 - val_loss: 0.3597 - val_accuracy: 0.8544\n",
      "Epoch 97/100\n",
      "128/128 [==============================] - 0s 544us/step - loss: 0.3359 - accuracy: 0.8650 - val_loss: 0.3581 - val_accuracy: 0.8562\n",
      "Epoch 98/100\n",
      "128/128 [==============================] - 0s 545us/step - loss: 0.3357 - accuracy: 0.8627 - val_loss: 0.3586 - val_accuracy: 0.8531\n",
      "Epoch 99/100\n",
      "128/128 [==============================] - 0s 546us/step - loss: 0.3354 - accuracy: 0.8636 - val_loss: 0.3587 - val_accuracy: 0.8556\n",
      "Epoch 100/100\n",
      "128/128 [==============================] - 0s 543us/step - loss: 0.3351 - accuracy: 0.8639 - val_loss: 0.3580 - val_accuracy: 0.8556\n"
     ]
    }
   ],
   "source": [
    "history = model.fit(X_train_scaled,y_train, batch_size = 50,epochs=100,verbose=1,validation_split=0.2)"
   ]
  },
  {
   "cell_type": "code",
   "execution_count": 177,
   "id": "0d9a033c",
   "metadata": {},
   "outputs": [
    {
     "name": "stdout",
     "output_type": "stream",
     "text": [
      "63/63 [==============================] - 0s 323us/step\n"
     ]
    }
   ],
   "source": [
    "y_pred = model.predict(X_test_scaled).argmax(axis=-1)"
   ]
  },
  {
   "cell_type": "code",
   "execution_count": 178,
   "id": "6e06fba2",
   "metadata": {},
   "outputs": [
    {
     "data": {
      "text/plain": [
       "array([0, 0, 0, ..., 0, 0, 0])"
      ]
     },
     "execution_count": 178,
     "metadata": {},
     "output_type": "execute_result"
    }
   ],
   "source": [
    "y_pred"
   ]
  },
  {
   "cell_type": "code",
   "execution_count": 179,
   "id": "bd9a2ed7",
   "metadata": {},
   "outputs": [
    {
     "data": {
      "text/plain": [
       "0.7975"
      ]
     },
     "execution_count": 179,
     "metadata": {},
     "output_type": "execute_result"
    }
   ],
   "source": [
    "from sklearn.metrics import accuracy_score\n",
    "accuracy_score(y_test,y_pred)"
   ]
  },
  {
   "cell_type": "code",
   "execution_count": 180,
   "id": "97b1d9e2",
   "metadata": {},
   "outputs": [
    {
     "data": {
      "image/png": "[encoded data removed]",
      "text/plain": [
       "<Figure size 640x480 with 1 Axes>"
      ]
     },
     "metadata": {},
     "output_type": "display_data"
    }
   ],
   "source": [
    "plt.plot(history.history['loss'],label='loss')\n",
    "plt.plot(history.history['val_loss'],label='val_loss')\n",
    "plt.legend()\n",
    "plt.show()"
   ]
  },
  {
   "cell_type": "code",
   "execution_count": 181,
   "id": "a255214a",
   "metadata": {},
   "outputs": [
    {
     "data": {
      "image/png": "[encoded data removed]",
      "text/plain": [
       "<Figure size 640x480 with 1 Axes>"
      ]
     },
     "metadata": {},
     "output_type": "display_data"
    }
   ],
   "source": [
    "plt.plot(history.history['accuracy'],label=\"accuracy\")\n",
    "plt.plot(history.history['val_accuracy'],label=\"val_accuracy\")\n",
    "plt.legend()\n",
    "plt.show()"
   ]
  }
 ],
 "metadata": {
  "kernelspec": {
   "display_name": "Python 3 (ipykernel)",
   "language": "python",
   "name": "python3"
  },
  "language_info": {
   "codemirror_mode": {
    "name": "ipython",
    "version": 3
   },
   "file_extension": ".py",
   "mimetype": "text/x-python",
   "name": "python",
   "nbconvert_exporter": "python",
   "pygments_lexer": "ipython3",
   "version": "3.11.0"
  }
 },
 "nbformat": 4,
 "nbformat_minor": 5
}
